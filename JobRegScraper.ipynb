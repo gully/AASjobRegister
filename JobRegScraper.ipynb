{
 "metadata": {
  "name": "",
  "signature": "sha256:363a9315e61262eac378cea3b4f0db309f78df72f94c540603cef8ccdc683ef8"
 },
 "nbformat": 3,
 "nbformat_minor": 0,
 "worksheets": [
  {
   "cells": [
    {
     "cell_type": "markdown",
     "metadata": {},
     "source": [
      "# Job register web scrapper.\n",
      "## Michael Gully-Santiago, October 2, 2014\n",
      "\n",
      "Basically I'm scaping the Job Register website to compile all the job add into into a single Excel file.\n",
      "\n",
      "I am following [this example](http://www.gregreda.com/2013/03/03/web-scraping-101-with-python/) from Greg Reda."
     ]
    },
    {
     "cell_type": "code",
     "collapsed": false,
     "input": [
      "from bs4 import BeautifulSoup\n",
      "from urllib2 import urlopen"
     ],
     "language": "python",
     "metadata": {},
     "outputs": []
    },
    {
     "cell_type": "code",
     "collapsed": false,
     "input": [
      "import re\n",
      "import time\n",
      "import pandas as pd\n",
      "from astropy.table import Table, Column\n",
      "import numpy as np"
     ],
     "language": "python",
     "metadata": {},
     "outputs": [
      {
       "output_type": "stream",
       "stream": "stderr",
       "text": [
        "WARNING: ConfigurationChangedWarning: The configuration options in astropy 0.4.2 may have changed, your configuration file was not updated in order to preserve local changes.  A new configuration template has been saved to '/Users/gully/.astropy/config/astropy.0.4.2.cfg'. [astropy.config.configuration]\n",
        "WARNING:astropy:ConfigurationChangedWarning: The configuration options in astropy 0.4.2 may have changed, your configuration file was not updated in order to preserve local changes.  A new configuration template has been saved to '/Users/gully/.astropy/config/astropy.0.4.2.cfg'.\n"
       ]
      }
     ],
     "prompt_number": 133
    },
    {
     "cell_type": "code",
     "collapsed": false,
     "input": [
      "BASE_URL = \"https://jobregister.aas.org/\"\n",
      "html = urlopen(BASE_URL).read()\n",
      "soup = BeautifulSoup(html, \"lxml\")\n",
      "pppcp2 = soup.find(\"div\", \"panel-pane pane-custom pane-2\")\n",
      "paneContent = pppcp2.find(\"div\", \"pane-content\")\n",
      "pcTab = paneContent.find(\"table\")\n",
      "allRows = pcTab.findAll(\"tr\")\n",
      "len(allRows)"
     ],
     "language": "python",
     "metadata": {},
     "outputs": [
      {
       "metadata": {},
       "output_type": "pyout",
       "prompt_number": 11,
       "text": [
        "222"
       ]
      }
     ],
     "prompt_number": 11
    },
    {
     "cell_type": "code",
     "collapsed": false,
     "input": [
      "lordList = []\n",
      "dots = '.'\n",
      "for row in allRows:\n",
      "    td = row.find(\"td\")\n",
      "    if (td != None):\n",
      "        link = td.a[\"href\"]\n",
      "        lordList.append(BASE_URL+link)\n",
      "\n",
      "#lordList"
     ],
     "language": "python",
     "metadata": {},
     "outputs": [],
     "prompt_number": 7
    },
    {
     "cell_type": "markdown",
     "metadata": {},
     "source": [
      "## woohoo, it works!!\n",
      "\n",
      "The next step is to now go to each page and scrape the desired information.\n",
      "\n",
      "By the way, you'll notice that it's not sorted by the job category (postdocs, Faculty, etc).  This is OK because there is a \"Job Category\" listing that we can use to sort things out later.\n",
      "\n",
      "Let's just pick **one** link to do our operations on.  We can iterate on all the links after it works for **one**."
     ]
    },
    {
     "cell_type": "code",
     "collapsed": false,
     "input": [
      "thisLink = lordList[0]"
     ],
     "language": "python",
     "metadata": {},
     "outputs": [],
     "prompt_number": 8
    },
    {
     "cell_type": "code",
     "collapsed": false,
     "input": [
      "print thisLink\n",
      "type(thisLink)"
     ],
     "language": "python",
     "metadata": {},
     "outputs": [
      {
       "output_type": "stream",
       "stream": "stdout",
       "text": [
        "https://jobregister.aas.org/job_view?JobID=48914\n"
       ]
      },
      {
       "metadata": {},
       "output_type": "pyout",
       "prompt_number": 12,
       "text": [
        "str"
       ]
      }
     ],
     "prompt_number": 12
    },
    {
     "cell_type": "markdown",
     "metadata": {},
     "source": [
      "Let's start off by just collecting the:\n",
      "\n",
      "1. post date\n",
      "2. deadline date\n",
      "3. job type\n",
      "4. institution/company name\n",
      "\n",
      "The html tags for these are:\n",
      "+ `fieldset class=\"fieldgroup group-submission-dates\"`\n",
      "+ `fieldset class=\"fieldgroup group-job-details\"`"
     ]
    },
    {
     "cell_type": "code",
     "collapsed": false,
     "input": [
      "thisHtml = urlopen(thisLink).read()\n",
      "soup = BeautifulSoup(thisHtml, \"lxml\")"
     ],
     "language": "python",
     "metadata": {},
     "outputs": []
    },
    {
     "cell_type": "markdown",
     "metadata": {},
     "source": [
      "## Dates"
     ]
    },
    {
     "cell_type": "code",
     "collapsed": false,
     "input": [
      "gsd = soup.find(\"fieldset\", \"fieldgroup group-submission-dates\")\n",
      "dds = gsd.findAll(\"span\",\"date-display-single\")\n",
      "postDate = str(dds[0].contents[0])\n",
      "deadline = str(dds[2].contents[0])\n",
      "#assumes 3 dates are posted...\n",
      "print postDate\n",
      "print deadline"
     ],
     "language": "python",
     "metadata": {},
     "outputs": [
      {
       "output_type": "stream",
       "stream": "stdout",
       "text": [
        "October 1, 2014\n",
        "November 30, 2014\n"
       ]
      }
     ],
     "prompt_number": 123
    },
    {
     "cell_type": "markdown",
     "metadata": {},
     "source": [
      "## Job details"
     ]
    },
    {
     "cell_type": "code",
     "collapsed": false,
     "input": [
      "gjd = soup.find(\"fieldset\", \"fieldgroup group-job-details\")\n",
      "\n",
      "# Job Category:\n",
      "ftf_JC = gjd.find(\"div\",\"field field-type-text field-field-job-category\")\n",
      "jobCatLabel = ftf_JC.find(\"div\", \"field-label-inline-first\")\n",
      "# re.sub gets rid of multiple spaces\n",
      "jobCat = str(re.sub(' +',' ',jobCatLabel.next_sibling)).replace(\"\\r\\n\", \"\")\n",
      "\n",
      "# Institution/Company Name:\n",
      "ftf_IN = gjd.find(\"div\",\"field field-type-text field-field-institution-name\")\n",
      "instituteLabel = ftf_IN.find(\"div\", \"field-label-inline-first\")\n",
      "institute = str(re.sub(' +',' ',instituteLabel.next_sibling)).replace(\"\\r\\n\", \"\")\n"
     ],
     "language": "python",
     "metadata": {},
     "outputs": [],
     "prompt_number": 124
    },
    {
     "cell_type": "code",
     "collapsed": false,
     "input": [
      "# How to put this all into a single output?\n",
      "\n",
      "'''\n",
      "d = {\"postDate\":[postDate], \n",
      "\"deadline\":[deadline],\n",
      "\"jobCat\" : [jobCat],\n",
      "\"institute\" : [institute]}\n",
      "#synAAS = pd.DataFrame(data=d)\n",
      "#synAAS\n",
      "'''\n",
      "\n",
      "t = Table([[postDate], [deadline], [jobCat], [institute]], names=('postDate', 'deadline', 'jobCat', 'institute'))\n",
      "\n",
      "#t.add_row([postDate, deadline, jobCat, institute])\n",
      "t"
     ],
     "language": "python",
     "metadata": {},
     "outputs": [
      {
       "html": [
        "<table id=\"table4371454032\"><thead><tr><th>postDate</th><th>deadline</th><th>jobCat</th><th>institute</th></tr></thead><tr><td>October 1, 2014</td><td>January 15, 2015</td><td>Faculty Positions (visiting and non-tenure)</td><td>University of South Florida</td></tr></table>"
       ],
       "metadata": {},
       "output_type": "pyout",
       "prompt_number": 149,
       "text": [
        "<Table rows=1 names=('postDate','deadline','jobCat','institute')>\n",
        "array([ ('October 1, 2014', 'January 15, 2015', ' Faculty Positions (visiting and non-tenure) ', ' University of South Florida ')], \n",
        "      dtype=[('postDate', 'S15'), ('deadline', 'S16'), ('jobCat', 'S45'), ('institute', 'S29')])"
       ]
      }
     ],
     "prompt_number": 149
    },
    {
     "cell_type": "markdown",
     "metadata": {},
     "source": [
      "## Ok, it's all working.  \n",
      "\n",
      "Let's put it all together."
     ]
    },
    {
     "cell_type": "code",
     "collapsed": false,
     "input": [
      "#Just deal with a subset at first\n",
      "subLordList = lordList[1:]\n",
      "\n",
      "for webLink in subLordList:\n",
      "    print webLink\n",
      "    thisHtml = urlopen(webLink).read()\n",
      "    soup = BeautifulSoup(thisHtml, \"lxml\")\n",
      "    #time.sleep(1)\n",
      "    \n",
      "    #Dates\n",
      "    gsd = soup.find(\"fieldset\", \"fieldgroup group-submission-dates\")\n",
      "    dds = gsd.findAll(\"span\",\"date-display-single\")\n",
      "    postDate = str(dds[0].contents[0])\n",
      "    deadline = str(dds[2].contents[0])\n",
      "\n",
      "    gjd = soup.find(\"fieldset\", \"fieldgroup group-job-details\")\n",
      "\n",
      "    # Job Category:\n",
      "    ftf_JC = gjd.find(\"div\",\"field field-type-text field-field-job-category\")\n",
      "    jobCatLabel = ftf_JC.find(\"div\", \"field-label-inline-first\")\n",
      "    jobCat = str(re.sub(' +',' ',jobCatLabel.next_sibling)).replace(\"\\r\\n\", \"\")\n",
      "\n",
      "    # Institute\n",
      "    ftf_IN = gjd.find(\"div\",\"field field-type-text field-field-institution-name\")\n",
      "    instituteLabel = ftf_IN.find(\"div\", \"field-label-inline-first\")\n",
      "    institute = str(re.sub(' +',' ',instituteLabel.next_sibling)).replace(\"\\r\\n\", \"\")\n",
      "    \n",
      "    t.add_row([postDate, deadline, jobCat, institute])"
     ],
     "language": "python",
     "metadata": {},
     "outputs": [
      {
       "output_type": "stream",
       "stream": "stdout",
       "text": [
        "https://jobregister.aas.org/job_view?JobID=49155\n",
        "https://jobregister.aas.org/job_view?JobID=49157"
       ]
      },
      {
       "output_type": "stream",
       "stream": "stdout",
       "text": [
        "\n",
        "https://jobregister.aas.org/job_view?JobID=49320"
       ]
      },
      {
       "output_type": "stream",
       "stream": "stdout",
       "text": [
        "\n",
        "https://jobregister.aas.org/job_view?JobID=49327"
       ]
      },
      {
       "output_type": "stream",
       "stream": "stdout",
       "text": [
        "\n",
        "https://jobregister.aas.org/job_view?JobID=48768"
       ]
      },
      {
       "output_type": "stream",
       "stream": "stdout",
       "text": [
        "\n",
        "https://jobregister.aas.org/job_view?JobID=48896"
       ]
      },
      {
       "output_type": "stream",
       "stream": "stdout",
       "text": [
        "\n",
        "https://jobregister.aas.org/job_view?JobID=48909"
       ]
      },
      {
       "output_type": "stream",
       "stream": "stdout",
       "text": [
        "\n",
        "https://jobregister.aas.org/job_view?JobID=48925"
       ]
      },
      {
       "output_type": "stream",
       "stream": "stdout",
       "text": [
        "\n",
        "https://jobregister.aas.org/job_view?JobID=48948"
       ]
      },
      {
       "output_type": "stream",
       "stream": "stdout",
       "text": [
        "\n",
        "https://jobregister.aas.org/job_view?JobID=48975"
       ]
      },
      {
       "output_type": "stream",
       "stream": "stdout",
       "text": [
        "\n",
        "https://jobregister.aas.org/job_view?JobID=48978"
       ]
      },
      {
       "output_type": "stream",
       "stream": "stdout",
       "text": [
        "\n",
        "https://jobregister.aas.org/job_view?JobID=48981"
       ]
      },
      {
       "output_type": "stream",
       "stream": "stdout",
       "text": [
        "\n",
        "https://jobregister.aas.org/job_view?JobID=49010"
       ]
      },
      {
       "output_type": "stream",
       "stream": "stdout",
       "text": [
        "\n",
        "https://jobregister.aas.org/job_view?JobID=49023"
       ]
      },
      {
       "output_type": "stream",
       "stream": "stdout",
       "text": [
        "\n",
        "https://jobregister.aas.org/job_view?JobID=49051"
       ]
      },
      {
       "output_type": "stream",
       "stream": "stdout",
       "text": [
        "\n",
        "https://jobregister.aas.org/job_view?JobID=49054"
       ]
      },
      {
       "output_type": "stream",
       "stream": "stdout",
       "text": [
        "\n",
        "https://jobregister.aas.org/job_view?JobID=49057"
       ]
      },
      {
       "output_type": "stream",
       "stream": "stdout",
       "text": [
        "\n",
        "https://jobregister.aas.org/job_view?JobID=49066"
       ]
      },
      {
       "output_type": "stream",
       "stream": "stdout",
       "text": [
        "\n",
        "https://jobregister.aas.org/job_view?JobID=49095"
       ]
      },
      {
       "output_type": "stream",
       "stream": "stdout",
       "text": [
        "\n",
        "https://jobregister.aas.org/job_view?JobID=49130"
       ]
      },
      {
       "output_type": "stream",
       "stream": "stdout",
       "text": [
        "\n",
        "https://jobregister.aas.org/job_view?JobID=49136"
       ]
      },
      {
       "output_type": "stream",
       "stream": "stdout",
       "text": [
        "\n",
        "https://jobregister.aas.org/job_view?JobID=49148"
       ]
      },
      {
       "output_type": "stream",
       "stream": "stdout",
       "text": [
        "\n",
        "https://jobregister.aas.org/job_view?JobID=49159"
       ]
      },
      {
       "output_type": "stream",
       "stream": "stdout",
       "text": [
        "\n",
        "https://jobregister.aas.org/job_view?JobID=49170"
       ]
      },
      {
       "output_type": "stream",
       "stream": "stdout",
       "text": [
        "\n",
        "https://jobregister.aas.org/job_view?JobID=49197"
       ]
      },
      {
       "output_type": "stream",
       "stream": "stdout",
       "text": [
        "\n",
        "https://jobregister.aas.org/job_view?JobID=49223"
       ]
      },
      {
       "output_type": "stream",
       "stream": "stdout",
       "text": [
        "\n",
        "https://jobregister.aas.org/job_view?JobID=49245"
       ]
      },
      {
       "output_type": "stream",
       "stream": "stdout",
       "text": [
        "\n",
        "https://jobregister.aas.org/job_view?JobID=49250"
       ]
      },
      {
       "output_type": "stream",
       "stream": "stdout",
       "text": [
        "\n",
        "https://jobregister.aas.org/job_view?JobID=49274"
       ]
      },
      {
       "output_type": "stream",
       "stream": "stdout",
       "text": [
        "\n",
        "https://jobregister.aas.org/job_view?JobID=49310"
       ]
      },
      {
       "output_type": "stream",
       "stream": "stdout",
       "text": [
        "\n",
        "https://jobregister.aas.org/job_view?JobID=48634"
       ]
      },
      {
       "output_type": "stream",
       "stream": "stdout",
       "text": [
        "\n",
        "https://jobregister.aas.org/job_view?JobID=48599"
       ]
      },
      {
       "output_type": "stream",
       "stream": "stdout",
       "text": [
        "\n",
        "https://jobregister.aas.org/job_view?JobID=48601"
       ]
      },
      {
       "output_type": "stream",
       "stream": "stdout",
       "text": [
        "\n",
        "https://jobregister.aas.org/job_view?JobID=48653"
       ]
      },
      {
       "output_type": "stream",
       "stream": "stdout",
       "text": [
        "\n",
        "https://jobregister.aas.org/job_view?JobID=48662"
       ]
      },
      {
       "output_type": "stream",
       "stream": "stdout",
       "text": [
        "\n",
        "https://jobregister.aas.org/job_view?JobID=48679"
       ]
      },
      {
       "output_type": "stream",
       "stream": "stdout",
       "text": [
        "\n",
        "https://jobregister.aas.org/job_view?JobID=48775"
       ]
      },
      {
       "output_type": "stream",
       "stream": "stdout",
       "text": [
        "\n",
        "https://jobregister.aas.org/job_view?JobID=48778"
       ]
      },
      {
       "output_type": "stream",
       "stream": "stdout",
       "text": [
        "\n",
        "https://jobregister.aas.org/job_view?JobID=48807"
       ]
      },
      {
       "output_type": "stream",
       "stream": "stdout",
       "text": [
        "\n",
        "https://jobregister.aas.org/job_view?JobID=48826"
       ]
      },
      {
       "output_type": "stream",
       "stream": "stdout",
       "text": [
        "\n",
        "https://jobregister.aas.org/job_view?JobID=48879"
       ]
      },
      {
       "output_type": "stream",
       "stream": "stdout",
       "text": [
        "\n",
        "https://jobregister.aas.org/job_view?JobID=48514"
       ]
      },
      {
       "output_type": "stream",
       "stream": "stdout",
       "text": [
        "\n",
        "https://jobregister.aas.org/job_view?JobID=48608"
       ]
      },
      {
       "output_type": "stream",
       "stream": "stdout",
       "text": [
        "\n",
        "https://jobregister.aas.org/job_view?JobID=49109"
       ]
      },
      {
       "output_type": "stream",
       "stream": "stdout",
       "text": [
        "\n",
        "https://jobregister.aas.org/job_view?JobID=49174"
       ]
      },
      {
       "output_type": "stream",
       "stream": "stdout",
       "text": [
        "\n",
        "https://jobregister.aas.org/job_view?JobID=49226"
       ]
      },
      {
       "output_type": "stream",
       "stream": "stdout",
       "text": [
        "\n",
        "https://jobregister.aas.org/job_view?JobID=48593"
       ]
      },
      {
       "output_type": "stream",
       "stream": "stdout",
       "text": [
        "\n",
        "https://jobregister.aas.org/job_view?JobID=48701"
       ]
      },
      {
       "output_type": "stream",
       "stream": "stdout",
       "text": [
        "\n",
        "https://jobregister.aas.org/job_view?JobID=48748"
       ]
      },
      {
       "output_type": "stream",
       "stream": "stdout",
       "text": [
        "\n",
        "https://jobregister.aas.org/job_view?JobID=48538"
       ]
      },
      {
       "output_type": "stream",
       "stream": "stdout",
       "text": [
        "\n",
        "https://jobregister.aas.org/job_view?JobID=48536"
       ]
      },
      {
       "output_type": "stream",
       "stream": "stdout",
       "text": [
        "\n",
        "https://jobregister.aas.org/job_view?JobID=48854"
       ]
      },
      {
       "output_type": "stream",
       "stream": "stdout",
       "text": [
        "\n",
        "https://jobregister.aas.org/job_view?JobID=48899"
       ]
      },
      {
       "output_type": "stream",
       "stream": "stdout",
       "text": [
        "\n",
        "https://jobregister.aas.org/job_view?JobID=48856"
       ]
      },
      {
       "output_type": "stream",
       "stream": "stdout",
       "text": [
        "\n",
        "https://jobregister.aas.org/job_view?JobID=48858"
       ]
      },
      {
       "output_type": "stream",
       "stream": "stdout",
       "text": [
        "\n",
        "https://jobregister.aas.org/job_view?JobID=48860"
       ]
      },
      {
       "output_type": "stream",
       "stream": "stdout",
       "text": [
        "\n",
        "https://jobregister.aas.org/job_view?JobID=48862"
       ]
      },
      {
       "output_type": "stream",
       "stream": "stdout",
       "text": [
        "\n",
        "https://jobregister.aas.org/job_view?JobID=48885"
       ]
      },
      {
       "output_type": "stream",
       "stream": "stdout",
       "text": [
        "\n",
        "https://jobregister.aas.org/job_view?JobID=48890"
       ]
      },
      {
       "output_type": "stream",
       "stream": "stdout",
       "text": [
        "\n",
        "https://jobregister.aas.org/job_view?JobID=48894"
       ]
      },
      {
       "output_type": "stream",
       "stream": "stdout",
       "text": [
        "\n",
        "https://jobregister.aas.org/job_view?JobID=48904"
       ]
      },
      {
       "output_type": "stream",
       "stream": "stdout",
       "text": [
        "\n",
        "https://jobregister.aas.org/job_view?JobID=48970"
       ]
      },
      {
       "output_type": "stream",
       "stream": "stdout",
       "text": [
        "\n",
        "https://jobregister.aas.org/job_view?JobID=48918"
       ]
      },
      {
       "output_type": "stream",
       "stream": "stdout",
       "text": [
        "\n",
        "https://jobregister.aas.org/job_view?JobID=48921"
       ]
      },
      {
       "output_type": "stream",
       "stream": "stdout",
       "text": [
        "\n",
        "https://jobregister.aas.org/job_view?JobID=48935"
       ]
      },
      {
       "output_type": "stream",
       "stream": "stdout",
       "text": [
        "\n",
        "https://jobregister.aas.org/job_view?JobID=48940"
       ]
      },
      {
       "output_type": "stream",
       "stream": "stdout",
       "text": [
        "\n",
        "https://jobregister.aas.org/job_view?JobID=48943"
       ]
      },
      {
       "output_type": "stream",
       "stream": "stdout",
       "text": [
        "\n",
        "https://jobregister.aas.org/job_view?JobID=48959"
       ]
      },
      {
       "output_type": "stream",
       "stream": "stdout",
       "text": [
        "\n",
        "https://jobregister.aas.org/job_view?JobID=48961"
       ]
      },
      {
       "output_type": "stream",
       "stream": "stdout",
       "text": [
        "\n",
        "https://jobregister.aas.org/job_view?JobID=48963"
       ]
      },
      {
       "output_type": "stream",
       "stream": "stdout",
       "text": [
        "\n",
        "https://jobregister.aas.org/job_view?JobID=48966"
       ]
      },
      {
       "output_type": "stream",
       "stream": "stdout",
       "text": [
        "\n",
        "https://jobregister.aas.org/job_view?JobID=48973"
       ]
      },
      {
       "output_type": "stream",
       "stream": "stdout",
       "text": [
        "\n",
        "https://jobregister.aas.org/job_view?JobID=48986"
       ]
      },
      {
       "output_type": "stream",
       "stream": "stdout",
       "text": [
        "\n",
        "https://jobregister.aas.org/job_view?JobID=48989"
       ]
      },
      {
       "output_type": "stream",
       "stream": "stdout",
       "text": [
        "\n",
        "https://jobregister.aas.org/job_view?JobID=48992"
       ]
      },
      {
       "output_type": "stream",
       "stream": "stdout",
       "text": [
        "\n",
        "https://jobregister.aas.org/job_view?JobID=48995"
       ]
      },
      {
       "output_type": "stream",
       "stream": "stdout",
       "text": [
        "\n",
        "https://jobregister.aas.org/job_view?JobID=49000"
       ]
      },
      {
       "output_type": "stream",
       "stream": "stdout",
       "text": [
        "\n",
        "https://jobregister.aas.org/job_view?JobID=49028"
       ]
      },
      {
       "output_type": "stream",
       "stream": "stdout",
       "text": [
        "\n",
        "https://jobregister.aas.org/job_view?JobID=49003"
       ]
      },
      {
       "output_type": "stream",
       "stream": "stdout",
       "text": [
        "\n",
        "https://jobregister.aas.org/job_view?JobID=49337"
       ]
      },
      {
       "output_type": "stream",
       "stream": "stdout",
       "text": [
        "\n",
        "https://jobregister.aas.org/job_view?JobID=49008"
       ]
      },
      {
       "output_type": "stream",
       "stream": "stdout",
       "text": [
        "\n",
        "https://jobregister.aas.org/job_view?JobID=49015"
       ]
      },
      {
       "output_type": "stream",
       "stream": "stdout",
       "text": [
        "\n",
        "https://jobregister.aas.org/job_view?JobID=49017"
       ]
      },
      {
       "output_type": "stream",
       "stream": "stdout",
       "text": [
        "\n",
        "https://jobregister.aas.org/job_view?JobID=49019"
       ]
      },
      {
       "output_type": "stream",
       "stream": "stdout",
       "text": [
        "\n",
        "https://jobregister.aas.org/job_view?JobID=49025"
       ]
      },
      {
       "output_type": "stream",
       "stream": "stdout",
       "text": [
        "\n",
        "https://jobregister.aas.org/job_view?JobID=49031"
       ]
      },
      {
       "output_type": "stream",
       "stream": "stdout",
       "text": [
        "\n",
        "https://jobregister.aas.org/job_view?JobID=49033"
       ]
      },
      {
       "output_type": "stream",
       "stream": "stdout",
       "text": [
        "\n",
        "https://jobregister.aas.org/job_view?JobID=49036"
       ]
      },
      {
       "output_type": "stream",
       "stream": "stdout",
       "text": [
        "\n",
        "https://jobregister.aas.org/job_view?JobID=49040"
       ]
      },
      {
       "output_type": "stream",
       "stream": "stdout",
       "text": [
        "\n",
        "https://jobregister.aas.org/job_view?JobID=49043"
       ]
      },
      {
       "output_type": "stream",
       "stream": "stdout",
       "text": [
        "\n",
        "https://jobregister.aas.org/job_view?JobID=49075"
       ]
      },
      {
       "output_type": "stream",
       "stream": "stdout",
       "text": [
        "\n",
        "https://jobregister.aas.org/job_view?JobID=49080"
       ]
      },
      {
       "output_type": "stream",
       "stream": "stdout",
       "text": [
        "\n",
        "https://jobregister.aas.org/job_view?JobID=49084"
       ]
      },
      {
       "output_type": "stream",
       "stream": "stdout",
       "text": [
        "\n",
        "https://jobregister.aas.org/job_view?JobID=49086"
       ]
      },
      {
       "output_type": "stream",
       "stream": "stdout",
       "text": [
        "\n",
        "https://jobregister.aas.org/job_view?JobID=49090"
       ]
      },
      {
       "output_type": "stream",
       "stream": "stdout",
       "text": [
        "\n",
        "https://jobregister.aas.org/job_view?JobID=49093"
       ]
      },
      {
       "output_type": "stream",
       "stream": "stdout",
       "text": [
        "\n",
        "https://jobregister.aas.org/job_view?JobID=49097"
       ]
      },
      {
       "output_type": "stream",
       "stream": "stdout",
       "text": [
        "\n",
        "https://jobregister.aas.org/job_view?JobID=49100"
       ]
      },
      {
       "output_type": "stream",
       "stream": "stdout",
       "text": [
        "\n",
        "https://jobregister.aas.org/job_view?JobID=49103"
       ]
      },
      {
       "output_type": "stream",
       "stream": "stdout",
       "text": [
        "\n",
        "https://jobregister.aas.org/job_view?JobID=49106"
       ]
      },
      {
       "output_type": "stream",
       "stream": "stdout",
       "text": [
        "\n",
        "https://jobregister.aas.org/job_view?JobID=49112"
       ]
      },
      {
       "output_type": "stream",
       "stream": "stdout",
       "text": [
        "\n",
        "https://jobregister.aas.org/job_view?JobID=49116"
       ]
      },
      {
       "output_type": "stream",
       "stream": "stdout",
       "text": [
        "\n",
        "https://jobregister.aas.org/job_view?JobID=49120"
       ]
      },
      {
       "output_type": "stream",
       "stream": "stdout",
       "text": [
        "\n",
        "https://jobregister.aas.org/job_view?JobID=49123"
       ]
      },
      {
       "output_type": "stream",
       "stream": "stdout",
       "text": [
        "\n",
        "https://jobregister.aas.org/job_view?JobID=49126"
       ]
      },
      {
       "output_type": "stream",
       "stream": "stdout",
       "text": [
        "\n",
        "https://jobregister.aas.org/job_view?JobID=49138"
       ]
      },
      {
       "output_type": "stream",
       "stream": "stdout",
       "text": [
        "\n",
        "https://jobregister.aas.org/job_view?JobID=49140"
       ]
      },
      {
       "output_type": "stream",
       "stream": "stdout",
       "text": [
        "\n",
        "https://jobregister.aas.org/job_view?JobID=49142"
       ]
      },
      {
       "output_type": "stream",
       "stream": "stdout",
       "text": [
        "\n",
        "https://jobregister.aas.org/job_view?JobID=49145"
       ]
      },
      {
       "output_type": "stream",
       "stream": "stdout",
       "text": [
        "\n",
        "https://jobregister.aas.org/job_view?JobID=49150"
       ]
      },
      {
       "output_type": "stream",
       "stream": "stdout",
       "text": [
        "\n",
        "https://jobregister.aas.org/job_view?JobID=49153"
       ]
      },
      {
       "output_type": "stream",
       "stream": "stdout",
       "text": [
        "\n",
        "https://jobregister.aas.org/job_view?JobID=49161"
       ]
      },
      {
       "output_type": "stream",
       "stream": "stdout",
       "text": [
        "\n",
        "https://jobregister.aas.org/job_view?JobID=49164"
       ]
      },
      {
       "output_type": "stream",
       "stream": "stdout",
       "text": [
        "\n",
        "https://jobregister.aas.org/job_view?JobID=49166"
       ]
      },
      {
       "output_type": "stream",
       "stream": "stdout",
       "text": [
        "\n",
        "https://jobregister.aas.org/job_view?JobID=49168"
       ]
      },
      {
       "output_type": "stream",
       "stream": "stdout",
       "text": [
        "\n",
        "https://jobregister.aas.org/job_view?JobID=49172"
       ]
      },
      {
       "output_type": "stream",
       "stream": "stdout",
       "text": [
        "\n",
        "https://jobregister.aas.org/job_view?JobID=49177"
       ]
      },
      {
       "output_type": "stream",
       "stream": "stdout",
       "text": [
        "\n",
        "https://jobregister.aas.org/job_view?JobID=49181"
       ]
      },
      {
       "output_type": "stream",
       "stream": "stdout",
       "text": [
        "\n",
        "https://jobregister.aas.org/job_view?JobID=49184"
       ]
      },
      {
       "output_type": "stream",
       "stream": "stdout",
       "text": [
        "\n",
        "https://jobregister.aas.org/job_view?JobID=49186"
       ]
      },
      {
       "output_type": "stream",
       "stream": "stdout",
       "text": [
        "\n",
        "https://jobregister.aas.org/job_view?JobID=49190"
       ]
      },
      {
       "output_type": "stream",
       "stream": "stdout",
       "text": [
        "\n",
        "https://jobregister.aas.org/job_view?JobID=49199"
       ]
      },
      {
       "output_type": "stream",
       "stream": "stdout",
       "text": [
        "\n",
        "https://jobregister.aas.org/job_view?JobID=49205"
       ]
      },
      {
       "output_type": "stream",
       "stream": "stdout",
       "text": [
        "\n",
        "https://jobregister.aas.org/job_view?JobID=49207"
       ]
      },
      {
       "output_type": "stream",
       "stream": "stdout",
       "text": [
        "\n",
        "https://jobregister.aas.org/job_view?JobID=49210"
       ]
      },
      {
       "output_type": "stream",
       "stream": "stdout",
       "text": [
        "\n",
        "https://jobregister.aas.org/job_view?JobID=49215"
       ]
      },
      {
       "output_type": "stream",
       "stream": "stdout",
       "text": [
        "\n",
        "https://jobregister.aas.org/job_view?JobID=49217"
       ]
      },
      {
       "output_type": "stream",
       "stream": "stdout",
       "text": [
        "\n",
        "https://jobregister.aas.org/job_view?JobID=49340"
       ]
      },
      {
       "output_type": "stream",
       "stream": "stdout",
       "text": [
        "\n",
        "https://jobregister.aas.org/job_view?JobID=49230"
       ]
      },
      {
       "output_type": "stream",
       "stream": "stdout",
       "text": [
        "\n",
        "https://jobregister.aas.org/job_view?JobID=49314"
       ]
      },
      {
       "output_type": "stream",
       "stream": "stdout",
       "text": [
        "\n",
        "https://jobregister.aas.org/job_view?JobID=49238"
       ]
      },
      {
       "output_type": "stream",
       "stream": "stdout",
       "text": [
        "\n",
        "https://jobregister.aas.org/job_view?JobID=49242"
       ]
      },
      {
       "output_type": "stream",
       "stream": "stdout",
       "text": [
        "\n",
        "https://jobregister.aas.org/job_view?JobID=49247"
       ]
      },
      {
       "output_type": "stream",
       "stream": "stdout",
       "text": [
        "\n",
        "https://jobregister.aas.org/job_view?JobID=49252"
       ]
      },
      {
       "output_type": "stream",
       "stream": "stdout",
       "text": [
        "\n",
        "https://jobregister.aas.org/job_view?JobID=49256"
       ]
      },
      {
       "output_type": "stream",
       "stream": "stdout",
       "text": [
        "\n",
        "https://jobregister.aas.org/job_view?JobID=49258"
       ]
      },
      {
       "output_type": "stream",
       "stream": "stdout",
       "text": [
        "\n",
        "https://jobregister.aas.org/job_view?JobID=49261"
       ]
      },
      {
       "output_type": "stream",
       "stream": "stdout",
       "text": [
        "\n",
        "https://jobregister.aas.org/job_view?JobID=49264"
       ]
      },
      {
       "output_type": "stream",
       "stream": "stdout",
       "text": [
        "\n",
        "https://jobregister.aas.org/job_view?JobID=49266"
       ]
      },
      {
       "output_type": "stream",
       "stream": "stdout",
       "text": [
        "\n",
        "https://jobregister.aas.org/job_view?JobID=49268"
       ]
      },
      {
       "output_type": "stream",
       "stream": "stdout",
       "text": [
        "\n",
        "https://jobregister.aas.org/job_view?JobID=49278"
       ]
      },
      {
       "output_type": "stream",
       "stream": "stdout",
       "text": [
        "\n",
        "https://jobregister.aas.org/job_view?JobID=49280"
       ]
      },
      {
       "output_type": "stream",
       "stream": "stdout",
       "text": [
        "\n",
        "https://jobregister.aas.org/job_view?JobID=49293"
       ]
      },
      {
       "output_type": "stream",
       "stream": "stdout",
       "text": [
        "\n",
        "https://jobregister.aas.org/job_view?JobID=49295"
       ]
      },
      {
       "output_type": "stream",
       "stream": "stdout",
       "text": [
        "\n",
        "https://jobregister.aas.org/job_view?JobID=49300"
       ]
      },
      {
       "output_type": "stream",
       "stream": "stdout",
       "text": [
        "\n",
        "https://jobregister.aas.org/job_view?JobID=49333"
       ]
      },
      {
       "output_type": "stream",
       "stream": "stderr",
       "text": [
        "ERROR: UnicodeEncodeError: 'ascii' codec can't encode character u'\\u2019' in position 16: ordinal not in range(128) [IPython.core.interactiveshell]\n",
        "ERROR:astropy:UnicodeEncodeError: 'ascii' codec can't encode character u'\\u2019' in position 16: ordinal not in range(128)\n"
       ]
      },
      {
       "output_type": "stream",
       "stream": "stdout",
       "text": [
        "\n"
       ]
      },
      {
       "ename": "UnicodeEncodeError",
       "evalue": "'ascii' codec can't encode character u'\\u2019' in position 16: ordinal not in range(128)",
       "output_type": "pyerr",
       "traceback": [
        "\u001b[0;31m---------------------------------------------------------------------------\u001b[0m\n\u001b[0;31mUnicodeEncodeError\u001b[0m                        Traceback (most recent call last)",
        "\u001b[0;32m<ipython-input-151-30afe591b10c>\u001b[0m in \u001b[0;36m<module>\u001b[0;34m()\u001b[0m\n\u001b[1;32m     24\u001b[0m     \u001b[0mftf_IN\u001b[0m \u001b[0;34m=\u001b[0m \u001b[0mgjd\u001b[0m\u001b[0;34m.\u001b[0m\u001b[0mfind\u001b[0m\u001b[0;34m(\u001b[0m\u001b[0;34m\"div\"\u001b[0m\u001b[0;34m,\u001b[0m\u001b[0;34m\"field field-type-text field-field-institution-name\"\u001b[0m\u001b[0;34m)\u001b[0m\u001b[0;34m\u001b[0m\u001b[0m\n\u001b[1;32m     25\u001b[0m     \u001b[0minstituteLabel\u001b[0m \u001b[0;34m=\u001b[0m \u001b[0mftf_IN\u001b[0m\u001b[0;34m.\u001b[0m\u001b[0mfind\u001b[0m\u001b[0;34m(\u001b[0m\u001b[0;34m\"div\"\u001b[0m\u001b[0;34m,\u001b[0m \u001b[0;34m\"field-label-inline-first\"\u001b[0m\u001b[0;34m)\u001b[0m\u001b[0;34m\u001b[0m\u001b[0m\n\u001b[0;32m---> 26\u001b[0;31m     \u001b[0minstitute\u001b[0m \u001b[0;34m=\u001b[0m \u001b[0mstr\u001b[0m\u001b[0;34m(\u001b[0m\u001b[0mre\u001b[0m\u001b[0;34m.\u001b[0m\u001b[0msub\u001b[0m\u001b[0;34m(\u001b[0m\u001b[0;34m' +'\u001b[0m\u001b[0;34m,\u001b[0m\u001b[0;34m' '\u001b[0m\u001b[0;34m,\u001b[0m\u001b[0minstituteLabel\u001b[0m\u001b[0;34m.\u001b[0m\u001b[0mnext_sibling\u001b[0m\u001b[0;34m)\u001b[0m\u001b[0;34m)\u001b[0m\u001b[0;34m.\u001b[0m\u001b[0mreplace\u001b[0m\u001b[0;34m(\u001b[0m\u001b[0;34m\"\\r\\n\"\u001b[0m\u001b[0;34m,\u001b[0m \u001b[0;34m\"\"\u001b[0m\u001b[0;34m)\u001b[0m\u001b[0;34m\u001b[0m\u001b[0m\n\u001b[0m\u001b[1;32m     27\u001b[0m \u001b[0;34m\u001b[0m\u001b[0m\n\u001b[1;32m     28\u001b[0m     \u001b[0mt\u001b[0m\u001b[0;34m.\u001b[0m\u001b[0madd_row\u001b[0m\u001b[0;34m(\u001b[0m\u001b[0;34m[\u001b[0m\u001b[0mpostDate\u001b[0m\u001b[0;34m,\u001b[0m \u001b[0mdeadline\u001b[0m\u001b[0;34m,\u001b[0m \u001b[0mjobCat\u001b[0m\u001b[0;34m,\u001b[0m \u001b[0minstitute\u001b[0m\u001b[0;34m]\u001b[0m\u001b[0;34m)\u001b[0m\u001b[0;34m\u001b[0m\u001b[0m\n",
        "\u001b[0;31mUnicodeEncodeError\u001b[0m: 'ascii' codec can't encode character u'\\u2019' in position 16: ordinal not in range(128)"
       ]
      }
     ],
     "prompt_number": 151
    },
    {
     "cell_type": "code",
     "collapsed": false,
     "input": [
      "t.show_in_browser(jsviewer=True)"
     ],
     "language": "python",
     "metadata": {},
     "outputs": [
      {
       "metadata": {},
       "output_type": "pyout",
       "prompt_number": 154,
       "text": [
        "<open file '<fdopen>', mode 'w+b' at 0x10435e8a0>"
       ]
      }
     ],
     "prompt_number": 154
    },
    {
     "cell_type": "code",
     "collapsed": false,
     "input": [],
     "language": "python",
     "metadata": {},
     "outputs": []
    }
   ],
   "metadata": {}
  }
 ]
}