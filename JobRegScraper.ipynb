{
 "metadata": {
  "name": "",
  "signature": "sha256:b2dc0207e09c3b7aeda5745195945fade0f6393677332955729416b127f8116f"
 },
 "nbformat": 3,
 "nbformat_minor": 0,
 "worksheets": [
  {
   "cells": [
    {
     "cell_type": "markdown",
     "metadata": {},
     "source": [
      "# Job register web scrapper.\n",
      "## Michael Gully-Santiago, October 2, 2014\n",
      "\n",
      "Basically I'm scaping the Job Register website to compile all the job add into into a single Excel file.\n",
      "\n",
      "I am following [this example](http://www.gregreda.com/2013/03/03/web-scraping-101-with-python/) from Greg Reda."
     ]
    },
    {
     "cell_type": "code",
     "collapsed": false,
     "input": [
      "from bs4 import BeautifulSoup\n",
      "from urllib2 import urlopen"
     ],
     "language": "python",
     "metadata": {},
     "outputs": [],
     "prompt_number": 1
    },
    {
     "cell_type": "code",
     "collapsed": false,
     "input": [
      "import re\n",
      "import time\n",
      "import pandas as pd\n",
      "from astropy.table import Table, Column\n",
      "import numpy as np"
     ],
     "language": "python",
     "metadata": {},
     "outputs": [],
     "prompt_number": 2
    },
    {
     "cell_type": "code",
     "collapsed": false,
     "input": [
      "import copy"
     ],
     "language": "python",
     "metadata": {},
     "outputs": [],
     "prompt_number": 106
    },
    {
     "cell_type": "code",
     "collapsed": false,
     "input": [
      "BASE_URL = \"https://jobregister.aas.org/\"\n",
      "html = urlopen(BASE_URL).read()\n",
      "soup = BeautifulSoup(html, \"lxml\")\n",
      "pppcp2 = soup.find(\"div\", \"panel-pane pane-custom pane-2\")\n",
      "paneContent = pppcp2.find(\"div\", \"pane-content\")\n",
      "pcTab = paneContent.find(\"table\")\n",
      "allRows = pcTab.findAll(\"tr\")\n",
      "len(allRows)"
     ],
     "language": "python",
     "metadata": {},
     "outputs": [
      {
       "metadata": {},
       "output_type": "pyout",
       "prompt_number": 3,
       "text": [
        "222"
       ]
      }
     ],
     "prompt_number": 3
    },
    {
     "cell_type": "code",
     "collapsed": false,
     "input": [
      "lordList = []\n",
      "dots = '.'\n",
      "for row in allRows:\n",
      "    td = row.find(\"td\")\n",
      "    if (td != None):\n",
      "        link = td.a[\"href\"]\n",
      "        lordList.append(BASE_URL+link)\n",
      "\n",
      "#lordList"
     ],
     "language": "python",
     "metadata": {},
     "outputs": [],
     "prompt_number": 4
    },
    {
     "cell_type": "markdown",
     "metadata": {},
     "source": [
      "## woohoo, it works!!\n",
      "\n",
      "The next step is to now go to each page and scrape the desired information.\n",
      "\n",
      "By the way, you'll notice that it's not sorted by the job category (postdocs, Faculty, etc).  This is OK because there is a \"Job Category\" listing that we can use to sort things out later.\n",
      "\n",
      "Let's just pick **one** link to do our operations on.  We can iterate on all the links after it works for **one**."
     ]
    },
    {
     "cell_type": "code",
     "collapsed": false,
     "input": [
      "thisLink = lordList[0]"
     ],
     "language": "python",
     "metadata": {},
     "outputs": [],
     "prompt_number": 5
    },
    {
     "cell_type": "code",
     "collapsed": false,
     "input": [
      "print thisLink\n",
      "type(thisLink)"
     ],
     "language": "python",
     "metadata": {},
     "outputs": [
      {
       "output_type": "stream",
       "stream": "stdout",
       "text": [
        "https://jobregister.aas.org/job_view?JobID=48914\n"
       ]
      },
      {
       "metadata": {},
       "output_type": "pyout",
       "prompt_number": 6,
       "text": [
        "str"
       ]
      }
     ],
     "prompt_number": 6
    },
    {
     "cell_type": "markdown",
     "metadata": {},
     "source": [
      "Let's start off by just collecting the:\n",
      "\n",
      "1. post date\n",
      "2. deadline date\n",
      "3. job type\n",
      "4. institution/company name\n",
      "\n",
      "The html tags for these are:\n",
      "+ `fieldset class=\"fieldgroup group-submission-dates\"`\n",
      "+ `fieldset class=\"fieldgroup group-job-details\"`"
     ]
    },
    {
     "cell_type": "code",
     "collapsed": false,
     "input": [
      "thisHtml = urlopen(thisLink).read()\n",
      "soup = BeautifulSoup(thisHtml, \"lxml\")"
     ],
     "language": "python",
     "metadata": {},
     "outputs": [],
     "prompt_number": 7
    },
    {
     "cell_type": "markdown",
     "metadata": {},
     "source": [
      "## Dates"
     ]
    },
    {
     "cell_type": "code",
     "collapsed": false,
     "input": [
      "gsd = soup.find(\"fieldset\", \"fieldgroup group-submission-dates\")\n",
      "dds = gsd.findAll(\"span\",\"date-display-single\")\n",
      "postDate = str(dds[0].contents[0])\n",
      "deadline = str(dds[2].contents[0])\n",
      "#assumes 3 dates are posted...\n",
      "print postDate\n",
      "print deadline"
     ],
     "language": "python",
     "metadata": {},
     "outputs": [
      {
       "output_type": "stream",
       "stream": "stdout",
       "text": [
        "October 1, 2014\n",
        "November 30, 2014\n"
       ]
      }
     ],
     "prompt_number": 8
    },
    {
     "cell_type": "markdown",
     "metadata": {},
     "source": [
      "## Job details"
     ]
    },
    {
     "cell_type": "code",
     "collapsed": false,
     "input": [
      "gjd = soup.find(\"fieldset\", \"fieldgroup group-job-details\")\n",
      "\n",
      "# Job Category:\n",
      "ftf_JC = gjd.find(\"div\",\"field field-type-text field-field-job-category\")\n",
      "jobCatLabel = ftf_JC.find(\"div\", \"field-label-inline-first\")\n",
      "# re.sub gets rid of multiple spaces\n",
      "jobCat = re.sub(' +',' ',jobCatLabel.next_sibling).encode('utf-8').replace(\"\\r\\n\", \"\")\n",
      "\n",
      "# Institution/Company Name:\n",
      "ftf_IN = gjd.find(\"div\",\"field field-type-text field-field-institution-name\")\n",
      "instituteLabel = ftf_IN.find(\"div\", \"field-label-inline-first\")\n",
      "institute = re.sub(' +',' ',instituteLabel.next_sibling).encode('utf-8').replace(\"\\r\\n\", \"\")\n"
     ],
     "language": "python",
     "metadata": {},
     "outputs": [],
     "prompt_number": 9
    },
    {
     "cell_type": "code",
     "collapsed": false,
     "input": [
      "# How to put this all into a single output?\n",
      "\n",
      "'''\n",
      "d = {\"postDate\":[postDate], \n",
      "\"deadline\":[deadline],\n",
      "\"jobCat\" : [jobCat],\n",
      "\"institute\" : [institute]}\n",
      "#synAAS = pd.DataFrame(data=d)\n",
      "#synAAS\n",
      "'''\n",
      "\n",
      "t = Table([[postDate], [deadline], [jobCat], [institute]], names=('postDate', 'deadline', 'jobCat', 'institute'))\n",
      "\n",
      "#t.add_row([postDate, deadline, jobCat, institute])\n",
      "t"
     ],
     "language": "python",
     "metadata": {},
     "outputs": [
      {
       "html": [
        "<table id=\"table4567756880\"><thead><tr><th>postDate</th><th>deadline</th><th>jobCat</th><th>institute</th></tr></thead><tr><td>October 1, 2014</td><td>November 30, 2014</td><td>Faculty Positions (visiting and non-tenure)</td><td>Johns Hopkins University</td></tr></table>"
       ],
       "metadata": {},
       "output_type": "pyout",
       "prompt_number": 12,
       "text": [
        "<Table rows=1 names=('postDate','deadline','jobCat','institute')>\n",
        "array([ ('October 1, 2014', 'November 30, 2014', ' Faculty Positions (visiting and non-tenure) ', ' Johns Hopkins University ')], \n",
        "      dtype=[('postDate', 'S15'), ('deadline', 'S17'), ('jobCat', 'S45'), ('institute', 'S26')])"
       ]
      }
     ],
     "prompt_number": 12
    },
    {
     "cell_type": "markdown",
     "metadata": {},
     "source": [
      "## Ok, it's all working.  \n",
      "\n",
      "Let's put it all together."
     ]
    },
    {
     "cell_type": "code",
     "collapsed": false,
     "input": [
      "print 4 % 3"
     ],
     "language": "python",
     "metadata": {},
     "outputs": [
      {
       "output_type": "stream",
       "stream": "stdout",
       "text": [
        "1\n"
       ]
      }
     ],
     "prompt_number": 100
    },
    {
     "cell_type": "code",
     "collapsed": false,
     "input": [
      "#Just deal with a subset at first\n",
      "subLordList = lordList\n",
      "\n",
      "# Desired columns:\n",
      "cPostDate = []\n",
      "cDeadline = []\n",
      "cJobCategory = []\n",
      "cInstitution = []\n",
      "i = 0\n",
      "\n",
      "for webLink in subLordList:\n",
      "    i+=1\n",
      "    if ((i % 10) == 0):\n",
      "        print i\n",
      "    thisHtml = urlopen(webLink).read()\n",
      "    soup = BeautifulSoup(thisHtml, \"lxml\")\n",
      "    #time.sleep(1)\n",
      "    \n",
      "    #Dates\n",
      "    gsd = soup.find(\"fieldset\", \"fieldgroup group-submission-dates\")\n",
      "    dds = gsd.findAll(\"span\",\"date-display-single\")\n",
      "    postDate = str(dds[0].contents[0])\n",
      "    cPostDate.append(postDate)\n",
      "    deadline = str(dds[2].contents[0])\n",
      "    cDeadline.append(deadline)\n",
      "    \n",
      "    gjd = soup.find(\"fieldset\", \"fieldgroup group-job-details\")\n",
      "\n",
      "    # Job Category:\n",
      "    ftf_JC = gjd.find(\"div\",\"field field-type-text field-field-job-category\")\n",
      "    jobCatLabel = ftf_JC.find(\"div\", \"field-label-inline-first\")\n",
      "    jobCat = re.sub(' +',' ',jobCatLabel.next_sibling).encode('utf-8', 'ignore').replace(\"\\r\\n\", \"\")\n",
      "    cJobCategory.append(jobCat)\n",
      "    \n",
      "    # Institute\n",
      "    ftf_IN = gjd.find(\"div\",\"field field-type-text field-field-institution-name\")\n",
      "    instituteLabel = ftf_IN.find(\"div\", \"field-label-inline-first\")\n",
      "    institute = re.sub(' +',' ',instituteLabel.next_sibling).encode('utf-8', 'ignore').replace(\"\\r\\n\", \"\")\n",
      "    cInstitution.append(institute)"
     ],
     "language": "python",
     "metadata": {},
     "outputs": [
      {
       "output_type": "stream",
       "stream": "stdout",
       "text": [
        "10\n",
        "20"
       ]
      },
      {
       "output_type": "stream",
       "stream": "stdout",
       "text": [
        "\n",
        "30"
       ]
      },
      {
       "output_type": "stream",
       "stream": "stdout",
       "text": [
        "\n",
        "40"
       ]
      },
      {
       "output_type": "stream",
       "stream": "stdout",
       "text": [
        "\n",
        "50"
       ]
      },
      {
       "output_type": "stream",
       "stream": "stdout",
       "text": [
        "\n",
        "60"
       ]
      },
      {
       "output_type": "stream",
       "stream": "stdout",
       "text": [
        "\n",
        "70"
       ]
      },
      {
       "output_type": "stream",
       "stream": "stdout",
       "text": [
        "\n",
        "80"
       ]
      },
      {
       "output_type": "stream",
       "stream": "stdout",
       "text": [
        "\n",
        "90"
       ]
      },
      {
       "output_type": "stream",
       "stream": "stdout",
       "text": [
        "\n",
        "100"
       ]
      },
      {
       "output_type": "stream",
       "stream": "stdout",
       "text": [
        "\n",
        "110"
       ]
      },
      {
       "output_type": "stream",
       "stream": "stdout",
       "text": [
        "\n",
        "120"
       ]
      },
      {
       "output_type": "stream",
       "stream": "stdout",
       "text": [
        "\n",
        "130"
       ]
      },
      {
       "output_type": "stream",
       "stream": "stdout",
       "text": [
        "\n",
        "140"
       ]
      },
      {
       "output_type": "stream",
       "stream": "stdout",
       "text": [
        "\n",
        "150"
       ]
      },
      {
       "output_type": "stream",
       "stream": "stdout",
       "text": [
        "\n",
        "160"
       ]
      },
      {
       "output_type": "stream",
       "stream": "stdout",
       "text": [
        "\n",
        "170"
       ]
      },
      {
       "output_type": "stream",
       "stream": "stdout",
       "text": [
        "\n",
        "180"
       ]
      },
      {
       "output_type": "stream",
       "stream": "stdout",
       "text": [
        "\n",
        "190"
       ]
      },
      {
       "output_type": "stream",
       "stream": "stdout",
       "text": [
        "\n",
        "200"
       ]
      },
      {
       "output_type": "stream",
       "stream": "stdout",
       "text": [
        "\n",
        "210"
       ]
      },
      {
       "output_type": "stream",
       "stream": "stdout",
       "text": [
        "\n"
       ]
      }
     ],
     "prompt_number": 101
    },
    {
     "cell_type": "markdown",
     "metadata": {},
     "source": [
      "I get a unicode error from the institution names.  Let's just ignore that.  Have to iterate through items in list..."
     ]
    },
    {
     "cell_type": "code",
     "collapsed": false,
     "input": [
      "copyInst = copy.copy(cInstitution)"
     ],
     "language": "python",
     "metadata": {},
     "outputs": [],
     "prompt_number": 107
    },
    {
     "cell_type": "code",
     "collapsed": false,
     "input": [
      "for i in range(len(copyInst)):\n",
      "    copyInst[i] = unicode(copyInst[i], errors='ignore')   "
     ],
     "language": "python",
     "metadata": {},
     "outputs": []
    },
    {
     "cell_type": "code",
     "collapsed": false,
     "input": [
      "t = Table([cPostDate, cDeadline, cJobCategory, copyInst], names=('postDate', 'deadline', 'jobCat', 'institute'))"
     ],
     "language": "python",
     "metadata": {},
     "outputs": [],
     "prompt_number": 115
    },
    {
     "cell_type": "code",
     "collapsed": false,
     "input": [
      "t.show_in_browser(jsviewer = True)"
     ],
     "language": "python",
     "metadata": {},
     "outputs": [
      {
       "metadata": {},
       "output_type": "pyout",
       "prompt_number": 116,
       "text": [
        "<open file '<fdopen>', mode 'w+b' at 0x110d80a50>"
       ]
      }
     ],
     "prompt_number": 116
    },
    {
     "cell_type": "code",
     "collapsed": false,
     "input": [],
     "language": "python",
     "metadata": {},
     "outputs": []
    }
   ],
   "metadata": {}
  }
 ]
}