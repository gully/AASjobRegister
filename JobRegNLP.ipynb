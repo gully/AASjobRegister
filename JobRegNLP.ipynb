{
 "metadata": {
  "name": "",
  "signature": "sha256:a6215bcfd8ecb9b750b4f078e996d6b8a5b5c3c3a806e683057058afad630632"
 },
 "nbformat": 3,
 "nbformat_minor": 0,
 "worksheets": [
  {
   "cells": [
    {
     "cell_type": "markdown",
     "metadata": {},
     "source": [
      "# Job register web scraping, \n",
      "\n",
      "## III. Natural Language Processing\n",
      "\n",
      "### Michael Gully-Santiago, October 5, 2014\n",
      "\n",
      "Extract keyword frequencies from the job announcement"
     ]
    },
    {
     "cell_type": "code",
     "collapsed": false,
     "input": [
      "from astropy.table import Table, Column\n",
      "import numpy as np\n",
      "import pandas as pd"
     ],
     "language": "python",
     "metadata": {},
     "outputs": [],
     "prompt_number": 2
    },
    {
     "cell_type": "code",
     "collapsed": false,
     "input": [
      "f = open('data/ItemizedAnnouncements.txt', 'r')\n",
      "announce = []\n",
      "\n",
      "for line in f:\n",
      "    announce.append(line)\n",
      "f.close()\n",
      "\n",
      "#len(announce)"
     ],
     "language": "python",
     "metadata": {},
     "outputs": [],
     "prompt_number": 11
    },
    {
     "cell_type": "markdown",
     "metadata": {},
     "source": [
      "## Questions we want to ask:\n",
      "\n",
      "### Easy:\n",
      "\n",
      "Does the job ad include these stems?\n",
      "\n",
      "1. \"instrumenta\" (-l or -tion)\n",
      "2. \"theor\" (-y or -etical)\n",
      "3. \"observation\"\n",
      "\n",
      "### Hard(er):\n",
      "\n",
      "Ideally, we'd also like to find out:\n",
      "+ What are the most unique words in each job ad?\n",
      "+ What does the entire corpus of job ads look like?\n",
      "+ Are there significant differences between the Faculty job ads and the Postdoc job ads?\n",
      "\n",
      "\n",
      "\n",
      "Let's attack the first question since it is relatively easy.\n"
     ]
    },
    {
     "cell_type": "code",
     "collapsed": false,
     "input": [
      "thisWord = \"exoplanet\"\n",
      "\n",
      "occurences = []\n",
      "\n",
      "for advert in announce:\n",
      "    thisAdvert = advert.lower()\n",
      "    thisCount = thisAdvert.count(thisWord.lower())\n",
      "    occurences.append(thisCount)\n",
      "    loc = thisAdvert.find(thisWord.lower())\n",
      "    if (thisCount > 0):\n",
      "        print advert[loc-40:loc+50]\n",
      "\n",
      "occurences = np.asarray(occurences)\n",
      "hits = (occurences > 0)\n",
      "sum(hits)"
     ],
     "language": "python",
     "metadata": {},
     "outputs": [
      {
       "output_type": "stream",
       "stream": "stdout",
       "text": [
        " formation, numerical astrophysics, and exoplanets. Additional information about the depar\n",
        "R and high energy astronomy, studies of exoplanets, gravitational-wave science, and observ\n",
        "rested in hiring someone in the area of exoplanets. The new faculty member will be joining\n",
        "dwide. Its particular expertises are in exoplanetary and stellar astrophysics, and in the \n",
        " research (including survey science) or exoplanet research. Strong scientific connections \n",
        "ad active programs in planet formation, exoplanets, stellar populations, galaxy formation,\n",
        "ic astronomy/cosmology, star formation, exoplanets or transient astronomy, and contribute \n",
        "f areas including detector development, exoplanets, cosmology, the interstellar and interg\n",
        "\n",
        "n:Extrasolar Planet CharacterizationThe Exoplanet team at Cornell University is seeking se\n",
        "ith Prof. Fred Rasio on the modeling of exoplanets and/or dense star clusters.Please submi\n",
        "dents). Research includes the Solar and Exoplanetary Systems, Star and Planet Formation, A\n",
        " Thematical actions:- Stellar physics;- Exoplanets and conditions for life;- Cosmology and\n",
        " of Chicago hosts a vibrant planets and exoplanets research program, with particular empha\n",
        "html). Active research at Yale includes exoplanets, solar and stellar astrophysics and sei\n",
        "ember of the Gemini Planet Imager (GPI) Exoplanet Survey Team, the Archival Legacy Investi\n",
        " observational or theoretical planetary/exoplanet science under the general supervision of\n",
        "he Suzaku X-ray mission, the Transiting Exoplanet Survey Satellite, the Laser Interferomet\n",
        "ics, with a preference for the field of exoplanetary science. MIT's exoplanet community in\n",
        "psing cores to planet-forming disks and exoplanets centeredaround ALMA data. A wide range \n",
        "tending from planet and star formation, exoplanet searches, Galactic astronomy, galaxy for\n",
        "trophysics, star- and planet formation, exoplanet and stellar astrophysics. This year it i\n",
        "ti-dimensional numerical simulations of exoplanet atmospheres. This will involve the furth\n",
        "eutron stars, nuclear astrophysics, and exoplanets. We also have strong ties to the early \n",
        "eutron stars, nuclear astrophysics, and exoplanets. We also have strong ties to the early \n",
        "\n",
        " researcher to play a key role in a new exoplanet survey targeting the nearest low-mass st\n",
        "), star and planetary system formation, exoplanets and Solar System objects. Astronomical \n",
        "logy), D. Hogg (galaxy astrophysics and exoplanets), M. Kleban (string theory and cosmolog\n",
        "rophysics. Programs of research include exoplanetary science, Galactic and extragalactic a\n",
        "lve independent research in any area in exoplanetary science (theoretical, observational, \n",
        "y includes work on stellar populations, exoplanets, high energy astrophysics and research \n",
        "those with backgrounds in planetary and exoplanetary astronomy are especially encouraged t\n",
        "easurements for the characterization of exoplanets. This group utilizes data from HARPS-N,\n",
        "metry to a broad community encompassing exoplanet science, stellar astrophysics, extragala\n"
       ]
      },
      {
       "metadata": {},
       "output_type": "pyout",
       "prompt_number": 146,
       "text": [
        "35"
       ]
      }
     ],
     "prompt_number": 146
    },
    {
     "cell_type": "code",
     "collapsed": false,
     "input": [],
     "language": "python",
     "metadata": {},
     "outputs": []
    }
   ],
   "metadata": {}
  }
 ]
}