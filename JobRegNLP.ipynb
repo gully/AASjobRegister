{
 "metadata": {
  "name": "",
  "signature": "sha256:c919571f4a7428dcce4c813d1237362757554bcc6fe7876f7efd59072deab5ff"
 },
 "nbformat": 3,
 "nbformat_minor": 0,
 "worksheets": [
  {
   "cells": [
    {
     "cell_type": "markdown",
     "metadata": {},
     "source": [
      "# Job register web scraping, \n",
      "\n",
      "## III. Natural Language Processing\n",
      "\n",
      "### Michael Gully-Santiago, October 5, 2014\n",
      "\n",
      "Extract keyword frequencies from the job announcement"
     ]
    },
    {
     "cell_type": "code",
     "collapsed": false,
     "input": [
      "from astropy.table import Table, Column\n",
      "import numpy as np\n",
      "import pandas as pd"
     ],
     "language": "python",
     "metadata": {},
     "outputs": [],
     "prompt_number": 2
    },
    {
     "cell_type": "code",
     "collapsed": false,
     "input": [
      "f = open('data/ItemizedAnnouncements.txt', 'r')\n",
      "announce = []\n",
      "\n",
      "for line in f:\n",
      "    announce.append(line)\n",
      "f.close()\n",
      "\n",
      "#len(announce)"
     ],
     "language": "python",
     "metadata": {},
     "outputs": [
      {
       "metadata": {},
       "output_type": "pyout",
       "prompt_number": 6,
       "text": [
        "213"
       ]
      }
     ],
     "prompt_number": 6
    },
    {
     "cell_type": "markdown",
     "metadata": {},
     "source": [
      "## Questions we want to ask:\n",
      "\n",
      "### Easy:\n",
      "\n",
      "Does the job ad include these phrases?\n",
      "\n",
      "1. \"instrumentation\"\n",
      "2. \"data intensive\"\n",
      "3. \"data\"\n",
      "4. \"data driven\"\n",
      "5. \"python\"\n",
      "6. \"IDL\"\n",
      "7. \"Theory\"\n",
      "8. \"Hubble\"\n",
      "9. \"Spitzer\"\n",
      "10. \"CCD\"\n",
      "11. \"Infrared\"\n",
      "12. \"Optics\"\n",
      "13.  etc, etc, etc...\n",
      "\n",
      "### Hard(er):\n",
      "\n",
      "Ideally, we'd also like to find out:\n",
      "+ What are the most unique words in each job ad?\n",
      "+ What does the entire corpus of job ads look like?\n",
      "+ Are there significant differences between the Faculty job ads and the Postdoc job ads?\n",
      "\n",
      "\n",
      "\n",
      "Let's attack the first question since it is relatively easy.\n"
     ]
    },
    {
     "cell_type": "code",
     "collapsed": false,
     "input": [],
     "language": "python",
     "metadata": {},
     "outputs": []
    },
    {
     "cell_type": "code",
     "collapsed": false,
     "input": [
      "'''\n",
      "lordAnnounce = ' '.join(announce)\n",
      "len(lordAnnounce)\n",
      "clnLA = lordAnnounce.replace(\"\\n\", \"\")\n",
      "clnLA = clnLA.replace(\"\\t\", \" \")\n",
      "clnLA = clnLA.lower()\n",
      "f = open('AllAnnouncements.txt', 'w')\n",
      "f.write(clnLA)\n",
      "f.close()\n",
      "import nltk\n",
      "from nltk.collocations import *\n",
      "bigram_measures = nltk.collocations.BigramAssocMeasures()\n",
      "trigram_measures = nltk.collocations.TrigramAssocMeasures()\n",
      "\n",
      "# change this to read in your data\n",
      "AllData = nltk.download('AllAnnouncements.txt')\n",
      "finder = BigramCollocationFinder.from_words(nltk.corpus.genesis.words('AllAnnouncements.txt'))\n",
      "# only bigrams that appear 3+ times\n",
      "finder.apply_freq_filter(3) \n",
      "\n",
      "# return the 10 n-grams with the highest PMI\n",
      "finder.nbest(bigram_measures.pmi, 10)  \n",
      "'''"
     ],
     "language": "python",
     "metadata": {},
     "outputs": []
    }
   ],
   "metadata": {}
  }
 ]
}