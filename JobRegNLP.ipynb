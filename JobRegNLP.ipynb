{
 "metadata": {
  "name": "",
  "signature": "sha256:942486647e256720a50796c40f52febc88a33acdf390dbc502d0ceca22014b0d"
 },
 "nbformat": 3,
 "nbformat_minor": 0,
 "worksheets": [
  {
   "cells": [
    {
     "cell_type": "markdown",
     "metadata": {},
     "source": [
      "# Job register web scraping, \n",
      "\n",
      "## III. Natural Language Processing\n",
      "\n",
      "### Michael Gully-Santiago, October 5, 2014\n",
      "\n",
      "Extract keyword frequencies from the job announcement"
     ]
    },
    {
     "cell_type": "code",
     "collapsed": false,
     "input": [
      "%pylab inline\n",
      "from astropy.table import Table, Column\n",
      "import numpy as np\n",
      "import pandas as pd\n",
      "import seaborn as sns\n",
      "from scipy import stats\n",
      "import matplotlib as mpl\n",
      "import matplotlib.pyplot as plt"
     ],
     "language": "python",
     "metadata": {},
     "outputs": [
      {
       "output_type": "stream",
       "stream": "stdout",
       "text": [
        "Populating the interactive namespace from numpy and matplotlib\n"
       ]
      }
     ],
     "prompt_number": 1
    },
    {
     "cell_type": "code",
     "collapsed": false,
     "input": [
      "announceFile = open('data/ItemizedAnnouncements.txt', 'r')\n",
      "announce = []\n",
      "\n",
      "for line in announceFile:\n",
      "    announce.append(line)\n",
      "announceFile.close()\n",
      "\n",
      "# The lord list of jobs, separate from the announcements\n",
      "dat = pd.read_csv('data/AllAASjobReg_abbreviated.dat', sep=';')"
     ],
     "language": "python",
     "metadata": {},
     "outputs": [],
     "prompt_number": 2
    },
    {
     "cell_type": "markdown",
     "metadata": {},
     "source": [
      "## Questions we want to ask:\n",
      "\n",
      "### Easy:\n",
      "\n",
      "Does the job ad include these stems?\n",
      "\n",
      "1. \"instrumenta\" (-l or -tion)\n",
      "2. \"theor\" (-y or -etical)\n",
      "3. \"observation\"\n",
      "\n",
      "### Hard(er):\n",
      "\n",
      "Ideally, we'd also like to find out:\n",
      "+ What are the most unique words in each job ad?\n",
      "+ What does the entire corpus of job ads look like?\n",
      "+ Are there significant differences between the Faculty job ads and the Postdoc job ads?\n",
      "\n",
      "\n",
      "\n",
      "Let's attack the first question since it is relatively easy.\n"
     ]
    },
    {
     "cell_type": "code",
     "collapsed": false,
     "input": [
      "thisWord = \"jenga\"\n",
      "\n",
      "searchWords = ['instrumenta', 'theor', 'observation', 'data-intensive', 'computational', \n",
      "               'galax', 'exoplanet', 'star formation', 'SDSS','GRB', 'hardware', 'software', 'data science',\n",
      "               'nano', 'optics', 'x-ray', 'brown dwarf', 'LSST', 'HST', 'statistics', 'GAIA',\n",
      "               'LBT', 'adaptive optics', 'Kepler', 'Keck', 'ALMA', 'VLT', 'Spitzer', 'simulations', \n",
      "               'interdisciplinary', 'MHD', 'high performance computing', 'planetary', 'quantum', 'infrared']\n",
      "\n",
      "totHits = []\n",
      "\n",
      "for thisWord in searchWords:\n",
      "    occurences = []\n",
      "    for advert in announce:\n",
      "        thisAdvert = advert.lower()\n",
      "        thisCount = thisAdvert.count(thisWord.lower())\n",
      "        occurences.append(thisCount)\n",
      "        #loc = thisAdvert.find(thisWord.lower())\n",
      "        #if (thisCount > 0):\n",
      "            #print advert[loc-40:loc+80]\n",
      "            \n",
      "    occurences = np.asarray(occurences)\n",
      "    dat[thisWord] = occurences\n",
      "    hits = (occurences > 0)\n",
      "    totHits.append(sum(hits))\n",
      "    print sum(hits), thisWord"
     ],
     "language": "python",
     "metadata": {},
     "outputs": [
      {
       "output_type": "stream",
       "stream": "stdout",
       "text": [
        "62 instrumenta\n",
        "108 theor\n",
        "113 observation\n",
        "3"
       ]
      },
      {
       "output_type": "stream",
       "stream": "stdout",
       "text": [
        " data-intensive\n",
        "34 computational\n",
        "79 galax\n",
        "35"
       ]
      },
      {
       "output_type": "stream",
       "stream": "stdout",
       "text": [
        " exoplanet\n",
        "22 star formation\n",
        "20 SDSS\n",
        "2"
       ]
      },
      {
       "output_type": "stream",
       "stream": "stdout",
       "text": [
        " GRB\n",
        "10 hardware\n",
        "26 software\n",
        "3"
       ]
      },
      {
       "output_type": "stream",
       "stream": "stdout",
       "text": [
        " data science\n",
        "3 nano\n",
        "21 optics\n",
        "18"
       ]
      },
      {
       "output_type": "stream",
       "stream": "stdout",
       "text": [
        " x-ray\n",
        "2 brown dwarf\n",
        "13 LSST\n",
        "9"
       ]
      },
      {
       "output_type": "stream",
       "stream": "stdout",
       "text": [
        " HST\n",
        "4 statistics\n",
        "6 GAIA\n",
        "8"
       ]
      },
      {
       "output_type": "stream",
       "stream": "stdout",
       "text": [
        " LBT\n",
        "11 adaptive optics\n",
        "3 Kepler\n",
        "11"
       ]
      },
      {
       "output_type": "stream",
       "stream": "stdout",
       "text": [
        " Keck\n",
        "18 ALMA\n",
        "15 VLT\n",
        "10"
       ]
      },
      {
       "output_type": "stream",
       "stream": "stdout",
       "text": [
        " Spitzer\n",
        "26 simulations\n",
        "14 interdisciplinary\n",
        "8"
       ]
      },
      {
       "output_type": "stream",
       "stream": "stdout",
       "text": [
        " MHD\n",
        "9 high performance computing\n",
        "43 planetary\n",
        "7"
       ]
      },
      {
       "output_type": "stream",
       "stream": "stdout",
       "text": [
        " quantum\n",
        "25 infrared\n"
       ]
      }
     ],
     "prompt_number": 3
    },
    {
     "cell_type": "code",
     "collapsed": false,
     "input": [
      "dct = {'word':searchWords, 'counts':totHits}\n",
      "tdf = pd.DataFrame(dct)\n",
      "sortedvi = [x for (y,x) in sorted(zip(totHits,searchWords))]"
     ],
     "language": "python",
     "metadata": {},
     "outputs": [],
     "prompt_number": 4
    },
    {
     "cell_type": "code",
     "collapsed": false,
     "input": [
      "sns.set()\n",
      "sns.set_context(\"paper\", font_scale=1.5, rc={\"lines.linewidth\": 2.5})"
     ],
     "language": "python",
     "metadata": {},
     "outputs": [],
     "prompt_number": 5
    },
    {
     "cell_type": "code",
     "collapsed": false,
     "input": [
      "sns.factorplot('word', 'counts', data=tdf, x_order=sortedvi)\n",
      "plt.xticks(rotation=90)\n"
     ],
     "language": "python",
     "metadata": {},
     "outputs": [
      {
       "metadata": {},
       "output_type": "pyout",
       "prompt_number": 6,
       "text": [
        "(array([ 0,  1,  2,  3,  4,  5,  6,  7,  8,  9, 10, 11, 12, 13, 14, 15, 16,\n",
        "        17, 18, 19, 20, 21, 22, 23, 24, 25, 26, 27, 28, 29, 30, 31, 32, 33,\n",
        "        34]), <a list of 35 Text xticklabel objects>)"
       ]
      },
      {
       "metadata": {},
       "output_type": "display_data",
       "png": "[encoded data removed]",
       "text": [
        "<matplotlib.figure.Figure at 0x1027b6190>"
       ]
      }
     ],
     "prompt_number": 6
    },
    {
     "cell_type": "code",
     "collapsed": false,
     "input": [
      "dat.head()"
     ],
     "language": "python",
     "metadata": {},
     "outputs": [
      {
       "html": [
        "<div style=\"max-height:1000px;max-width:1500px;overflow:auto;\">\n",
        "<table border=\"1\" class=\"dataframe\">\n",
        "  <thead>\n",
        "    <tr style=\"text-align: right;\">\n",
        "      <th></th>\n",
        "      <th>PostDate</th>\n",
        "      <th>Deadline</th>\n",
        "      <th>JobCategory</th>\n",
        "      <th>Institution</th>\n",
        "      <th>webURL</th>\n",
        "      <th>attn_to</th>\n",
        "      <th>attn_to_title</th>\n",
        "      <th>attn_to_org</th>\n",
        "      <th>attn_to_address</th>\n",
        "      <th>attn_to_city</th>\n",
        "      <th>...</th>\n",
        "      <th>ALMA</th>\n",
        "      <th>VLT</th>\n",
        "      <th>Spitzer</th>\n",
        "      <th>simulations</th>\n",
        "      <th>interdisciplinary</th>\n",
        "      <th>MHD</th>\n",
        "      <th>high performance computing</th>\n",
        "      <th>planetary</th>\n",
        "      <th>quantum</th>\n",
        "      <th>infrared</th>\n",
        "    </tr>\n",
        "  </thead>\n",
        "  <tbody>\n",
        "    <tr>\n",
        "      <th>0</th>\n",
        "      <td> October 1, 2014</td>\n",
        "      <td> November 30, 2014</td>\n",
        "      <td> Faculty Positions (visiting and non-tenure)</td>\n",
        "      <td>      Johns Hopkins University</td>\n",
        "      <td> https://jobregister.aas.org/job_view?JobID=48914</td>\n",
        "      <td>                 Margaret Gier</td>\n",
        "      <td>  Administrative Manager</td>\n",
        "      <td>         Johns Hopkins University</td>\n",
        "      <td> 3400 N. Charles Street</td>\n",
        "      <td>  Baltimore</td>\n",
        "      <td>...</td>\n",
        "      <td> 0</td>\n",
        "      <td> 0</td>\n",
        "      <td> 0</td>\n",
        "      <td> 1</td>\n",
        "      <td> 0</td>\n",
        "      <td> 0</td>\n",
        "      <td> 0</td>\n",
        "      <td> 0</td>\n",
        "      <td> 0</td>\n",
        "      <td> 0</td>\n",
        "    </tr>\n",
        "    <tr>\n",
        "      <th>1</th>\n",
        "      <td> October 1, 2014</td>\n",
        "      <td> November 15, 2014</td>\n",
        "      <td> Faculty Positions (visiting and non-tenure)</td>\n",
        "      <td>          Niels Bohr Institute</td>\n",
        "      <td> https://jobregister.aas.org/job_view?JobID=49155</td>\n",
        "      <td>                 Martin Pessah</td>\n",
        "      <td>                     ---</td>\n",
        "      <td> Niels Bohr International Academy</td>\n",
        "      <td>   Niels Bohr Institute</td>\n",
        "      <td> Copenhagen</td>\n",
        "      <td>...</td>\n",
        "      <td> 0</td>\n",
        "      <td> 0</td>\n",
        "      <td> 0</td>\n",
        "      <td> 0</td>\n",
        "      <td> 0</td>\n",
        "      <td> 1</td>\n",
        "      <td> 1</td>\n",
        "      <td> 2</td>\n",
        "      <td> 0</td>\n",
        "      <td> 0</td>\n",
        "    </tr>\n",
        "    <tr>\n",
        "      <th>2</th>\n",
        "      <td> October 1, 2014</td>\n",
        "      <td> November 15, 2014</td>\n",
        "      <td> Faculty Positions (visiting and non-tenure)</td>\n",
        "      <td>          Niels Bohr Institute</td>\n",
        "      <td> https://jobregister.aas.org/job_view?JobID=49157</td>\n",
        "      <td>                 Martin Pessah</td>\n",
        "      <td>                     ---</td>\n",
        "      <td> Niels Bohr International Academy</td>\n",
        "      <td>   Niels Bohr Institute</td>\n",
        "      <td> Copenhagen</td>\n",
        "      <td>...</td>\n",
        "      <td> 0</td>\n",
        "      <td> 0</td>\n",
        "      <td> 0</td>\n",
        "      <td> 0</td>\n",
        "      <td> 0</td>\n",
        "      <td> 1</td>\n",
        "      <td> 1</td>\n",
        "      <td> 2</td>\n",
        "      <td> 0</td>\n",
        "      <td> 0</td>\n",
        "    </tr>\n",
        "    <tr>\n",
        "      <th>3</th>\n",
        "      <td> October 1, 2014</td>\n",
        "      <td> November 10, 2014</td>\n",
        "      <td> Faculty Positions (visiting and non-tenure)</td>\n",
        "      <td> Florida Gulf Coast University</td>\n",
        "      <td> https://jobregister.aas.org/job_view?JobID=49320</td>\n",
        "      <td> Florida Gulf Coast Universuty</td>\n",
        "      <td>                     ---</td>\n",
        "      <td>                              ---</td>\n",
        "      <td>                    ---</td>\n",
        "      <td>        ---</td>\n",
        "      <td>...</td>\n",
        "      <td> 0</td>\n",
        "      <td> 0</td>\n",
        "      <td> 0</td>\n",
        "      <td> 0</td>\n",
        "      <td> 0</td>\n",
        "      <td> 0</td>\n",
        "      <td> 0</td>\n",
        "      <td> 0</td>\n",
        "      <td> 0</td>\n",
        "      <td> 0</td>\n",
        "    </tr>\n",
        "    <tr>\n",
        "      <th>4</th>\n",
        "      <td> October 1, 2014</td>\n",
        "      <td>  January 15, 2015</td>\n",
        "      <td> Faculty Positions (visiting and non-tenure)</td>\n",
        "      <td>   University of South Florida</td>\n",
        "      <td> https://jobregister.aas.org/job_view?JobID=49327</td>\n",
        "      <td>              Dr. Gerald Woods</td>\n",
        "      <td> Chair, Search Committee</td>\n",
        "      <td>      University of South Florida</td>\n",
        "      <td> USF/Physics Department</td>\n",
        "      <td>      Tampa</td>\n",
        "      <td>...</td>\n",
        "      <td> 0</td>\n",
        "      <td> 0</td>\n",
        "      <td> 0</td>\n",
        "      <td> 0</td>\n",
        "      <td> 0</td>\n",
        "      <td> 0</td>\n",
        "      <td> 0</td>\n",
        "      <td> 0</td>\n",
        "      <td> 0</td>\n",
        "      <td> 0</td>\n",
        "    </tr>\n",
        "  </tbody>\n",
        "</table>\n",
        "<p>5 rows \u00d7 50 columns</p>\n",
        "</div>"
       ],
       "metadata": {},
       "output_type": "pyout",
       "prompt_number": 7,
       "text": [
        "          PostDate           Deadline  \\\n",
        "0  October 1, 2014  November 30, 2014   \n",
        "1  October 1, 2014  November 15, 2014   \n",
        "2  October 1, 2014  November 15, 2014   \n",
        "3  October 1, 2014  November 10, 2014   \n",
        "4  October 1, 2014   January 15, 2015   \n",
        "\n",
        "                                   JobCategory                    Institution  \\\n",
        "0  Faculty Positions (visiting and non-tenure)       Johns Hopkins University   \n",
        "1  Faculty Positions (visiting and non-tenure)           Niels Bohr Institute   \n",
        "2  Faculty Positions (visiting and non-tenure)           Niels Bohr Institute   \n",
        "3  Faculty Positions (visiting and non-tenure)  Florida Gulf Coast University   \n",
        "4  Faculty Positions (visiting and non-tenure)    University of South Florida   \n",
        "\n",
        "                                             webURL  \\\n",
        "0  https://jobregister.aas.org/job_view?JobID=48914   \n",
        "1  https://jobregister.aas.org/job_view?JobID=49155   \n",
        "2  https://jobregister.aas.org/job_view?JobID=49157   \n",
        "3  https://jobregister.aas.org/job_view?JobID=49320   \n",
        "4  https://jobregister.aas.org/job_view?JobID=49327   \n",
        "\n",
        "                         attn_to            attn_to_title  \\\n",
        "0                  Margaret Gier   Administrative Manager   \n",
        "1                  Martin Pessah                      ---   \n",
        "2                  Martin Pessah                      ---   \n",
        "3  Florida Gulf Coast Universuty                      ---   \n",
        "4               Dr. Gerald Woods  Chair, Search Committee   \n",
        "\n",
        "                        attn_to_org         attn_to_address attn_to_city  \\\n",
        "0          Johns Hopkins University  3400 N. Charles Street    Baltimore   \n",
        "1  Niels Bohr International Academy    Niels Bohr Institute   Copenhagen   \n",
        "2  Niels Bohr International Academy    Niels Bohr Institute   Copenhagen   \n",
        "3                               ---                     ---          ---   \n",
        "4       University of South Florida  USF/Physics Department        Tampa   \n",
        "\n",
        "      ...      ALMA VLT Spitzer simulations interdisciplinary  MHD  \\\n",
        "0     ...         0   0       0           1                 0    0   \n",
        "1     ...         0   0       0           0                 0    1   \n",
        "2     ...         0   0       0           0                 0    1   \n",
        "3     ...         0   0       0           0                 0    0   \n",
        "4     ...         0   0       0           0                 0    0   \n",
        "\n",
        "   high performance computing  planetary  quantum  infrared  \n",
        "0                           0          0        0         0  \n",
        "1                           1          2        0         0  \n",
        "2                           1          2        0         0  \n",
        "3                           0          0        0         0  \n",
        "4                           0          0        0         0  \n",
        "\n",
        "[5 rows x 50 columns]"
       ]
      }
     ],
     "prompt_number": 7
    },
    {
     "cell_type": "code",
     "collapsed": false,
     "input": [
      "dat.to_excel('AASjobRegExcel_basicNLP.xls')"
     ],
     "language": "python",
     "metadata": {},
     "outputs": [],
     "prompt_number": 17
    }
   ],
   "metadata": {}
  }
 ]
}